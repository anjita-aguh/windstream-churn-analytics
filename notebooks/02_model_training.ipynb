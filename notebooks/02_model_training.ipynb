# Model training and evaluation notebook
